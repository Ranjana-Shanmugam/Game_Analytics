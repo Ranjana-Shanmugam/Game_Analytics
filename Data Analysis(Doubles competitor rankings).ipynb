{
 "cells": [
  {
   "cell_type": "code",
   "execution_count": 12,
   "metadata": {},
   "outputs": [],
   "source": [
    "import mysql.connector"
   ]
  },
  {
   "cell_type": "code",
   "execution_count": 13,
   "metadata": {},
   "outputs": [],
   "source": [
    "connection = mysql.connector.connect(\n",
    "    host=\"localhost\",       \n",
    "    user=\"root\",            \n",
    "    password=\"\",            \n",
    "    database=\"doubles\"    \n",
    ")\n",
    "mycursor = connection.cursor()"
   ]
  },
  {
   "cell_type": "code",
   "execution_count": null,
   "metadata": {},
   "outputs": [],
   "source": [
    "pip install tabulate"
   ]
  },
  {
   "cell_type": "code",
   "execution_count": null,
   "metadata": {},
   "outputs": [],
   "source": [
    "mycursor.execute(\"\"\"SELECT * FROM competitor_rankings\n",
    "                 WHERE `rank` BETWEEN 1 AND 100 \n",
    "                 ORDER BY `rank` ASC;\n",
    "                 \"\"\")\n",
    "out=mycursor.fetchall()\n",
    "from tabulate import tabulate\n",
    "print(tabulate(out,headers=[i[0] for i in mycursor.description],tablefmt='psql'))"
   ]
  },
  {
   "cell_type": "code",
   "execution_count": null,
   "metadata": {},
   "outputs": [],
   "source": [
    "#Get all competitors with their rank and points.\n",
    "mycursor.execute(\"\"\" SELECT rank,points,competitor_id\n",
    "                 FROM\n",
    "                 doubles.competitor_rankings\"\"\")\n",
    "out=mycursor.fetchall()\n",
    "from tabulate import tabulate\n",
    "print(tabulate(out,headers=[i[0] for i in mycursor.description],tablefmt='psql'))"
   ]
  },
  {
   "cell_type": "code",
   "execution_count": null,
   "metadata": {},
   "outputs": [],
   "source": [
    "#Find competitors ranked in the top 5\n",
    "mycursor.execute(\"\"\" SELECT cr.rank,cr.competitor_id,c.name\n",
    "                 FROM\n",
    "                 doubles.competitor_rankings as cr\n",
    "                 LEFT JOIN\n",
    "                 doubles.competitor as c\n",
    "                 ON\n",
    "                 cr.competitor_id=c.competitor_id\"\"\")\n",
    "out=mycursor.fetchall()\n",
    "from tabulate import tabulate\n",
    "print(tabulate(out,headers=[i[0] for i in mycursor.description],tablefmt='psql'))"
   ]
  },
  {
   "cell_type": "code",
   "execution_count": null,
   "metadata": {},
   "outputs": [],
   "source": [
    "#List competitors with no rank movement (stable rank)\n",
    "mycursor.execute(\"\"\"SELECT c.competitor_id, c.name, cr.rank, cr.movement\n",
    "FROM doubles.competitor c\n",
    "JOIN doubles.competitor_rankings cr ON c.competitor_id = cr.competitor_id\n",
    "WHERE cr.movement = 0;\"\"\")\n",
    "out=mycursor.fetchall()\n",
    "from tabulate import tabulate\n",
    "print(tabulate(out,headers=[i[0] for i in mycursor.description],tablefmt='psql'))"
   ]
  },
  {
   "cell_type": "code",
   "execution_count": null,
   "metadata": {},
   "outputs": [],
   "source": [
    "#Get the total points of competitors from a specific country (e.g., Croatia)\n",
    "mycursor.execute(\"\"\" SELECT c.country,c.country_code,SUM(cr.points) AS Total_points\n",
    "                 FROM\n",
    "                 doubles.competitor as c\n",
    "                 ON\n",
    "                 doubles.competitor_rankings as cr\n",
    "                 JOIN\n",
    "                 ON\n",
    "                 c.competitor_id=cr.competitor_id\n",
    "                 WHERE country=\"croatia\"\n",
    "\"\"\")\n",
    "out=mycursor.fetchall()\n",
    "from tabulate import tabulate\n",
    "print(tabulate(out,headers=[i[0] for i in mycursor.description],tablefmt='psql'))"
   ]
  },
  {
   "cell_type": "code",
   "execution_count": null,
   "metadata": {},
   "outputs": [],
   "source": [
    "mycursor.execute(\"\"\"SELECT c.country, c.country_code, SUM(cr.points) AS total_points\n",
    "FROM doubles.competitor AS c\n",
    "JOIN doubles.competitor_rankings AS cr ON c.competitor_id = cr.competitor_id\n",
    "WHERE c.country = 'Croatia'\n",
    "GROUP BY c.country, c.country_code;\n",
    "\"\"\")\n",
    "\n",
    "out=mycursor.fetchall()\n",
    "from tabulate import tabulate\n",
    "print(tabulate(out,headers=[i[0] for i in mycursor.description],tablefmt='psql'))"
   ]
  },
  {
   "cell_type": "code",
   "execution_count": null,
   "metadata": {},
   "outputs": [],
   "source": [
    "#Count the number of competitors per country\n",
    "mycursor.execute(\"\"\"SELECT country, country_code, COUNT(*) AS competitor_count\n",
    "FROM doubles.competitor\n",
    "GROUP BY country, country_code\n",
    "ORDER BY competitor_count DESC;\n",
    "                 \"\"\")\n",
    "out=mycursor.fetchall()\n",
    "from tabulate import tabulate\n",
    "print(tabulate(out,headers=[i[0] for i in mycursor.description],tablefmt='psql'))"
   ]
  },
  {
   "cell_type": "code",
   "execution_count": null,
   "metadata": {},
   "outputs": [],
   "source": [
    "#Find competitors with the highest points in the current week\n",
    "mycursor.execute(\"\"\"SELECT c.competitor_id,c.name,max(cr.points) as Highest_points\n",
    "                 FROM\n",
    "                 doubles.competitor  c\n",
    "                 JOIN\n",
    "                 doubles.competitor_rankings cr ON\n",
    "                 c.competitor_id=cr.competitor_id\n",
    "                 \"\"\")\n",
    "out=mycursor.fetchall()\n",
    "from tabulate import tabulate\n",
    "print(tabulate(out,headers=[i[0] for i in mycursor.description],tablefmt='psql'))"
   ]
  }
 ],
 "metadata": {
  "kernelspec": {
   "display_name": "Python 3",
   "language": "python",
   "name": "python3"
  },
  "language_info": {
   "codemirror_mode": {
    "name": "ipython",
    "version": 3
   },
   "file_extension": ".py",
   "mimetype": "text/x-python",
   "name": "python",
   "nbconvert_exporter": "python",
   "pygments_lexer": "ipython3",
   "version": "3.13.1"
  }
 },
 "nbformat": 4,
 "nbformat_minor": 2
}

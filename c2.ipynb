{
 "cells": [
  {
   "cell_type": "code",
   "execution_count": 6,
   "metadata": {},
   "outputs": [
    {
     "name": "stdout",
     "output_type": "stream",
     "text": [
      "3212 venue records inserted/updated.\n"
     ]
    }
   ],
   "source": [
    "import requests\n",
    "import mysql.connector\n",
    "\n",
    "#API configuration\n",
    "API_URL = \"https://api.sportradar.com/tennis/trial/v3/en/complexes.json\"\n",
    "\n",
    "API_KEY = \"UdfDtENKaaWlf1UzBnzVSldMxYu4umMwr3l1aOLd\"\n",
    "\n",
    "#Data base configuration\n",
    "DB_CONFIG = {\n",
    "    \"host\": \"localhost\",    \n",
    "    \"user\": \"root\",         \n",
    "    \"password\": \"\",         \n",
    "    \"database\": \"compl\"    \n",
    "}\n",
    "\n",
    "def fetch_venues():\n",
    "    \"\"\"Fetch venue data from Sportradar API.\"\"\"\n",
    "    response = requests.get(API_URL, params={\"api_key\": API_KEY})\n",
    "\n",
    "    if response.status_code == 200:\n",
    "        complexes = response.json().get(\"complexes\", [])\n",
    "        venues = []\n",
    "\n",
    "        for complex_data in complexes:\n",
    "            complex_id = complex_data[\"id\"]\n",
    "            for venue in complex_data.get(\"venues\", []):\n",
    "                venues.append((\n",
    "                    venue[\"id\"],\n",
    "                    venue[\"name\"],\n",
    "                    venue.get(\"city_name\", None),\n",
    "                    venue.get(\"country_name\", None),\n",
    "                    venue.get(\"timezone\", None),\n",
    "                    complex_id\n",
    "                ))\n",
    "\n",
    "        return venues\n",
    "    else:\n",
    "        print(\"Error fetching data:\", response.status_code, response.text)\n",
    "        return []\n",
    "\n",
    "def insert_into_db(venues):\n",
    "    \"\"\"Insert venue data into MySQL.\"\"\"\n",
    "    try:\n",
    "        conn = mysql.connector.connect(**DB_CONFIG)\n",
    "        cursor = conn.cursor()\n",
    "\n",
    "        query = \"\"\"\n",
    "        INSERT INTO venues (venue_id, venue_name, city_name, country_name, timezone, complex_id) \n",
    "        VALUES (%s, %s, %s, %s, %s, %s) \n",
    "        ON DUPLICATE KEY UPDATE \n",
    "            venue_name = VALUES(venue_name),\n",
    "            city_name = VALUES(city_name),\n",
    "            country_name = VALUES(country_name),\n",
    "            timezone = VALUES(timezone),\n",
    "            complex_id = VALUES(complex_id)\n",
    "        \"\"\"\n",
    "\n",
    "        cursor.executemany(query, venues)\n",
    "        conn.commit()\n",
    "\n",
    "        print(f\"{cursor.rowcount} venue records inserted/updated.\")\n",
    "\n",
    "        cursor.close()\n",
    "        conn.close()\n",
    "\n",
    "    except mysql.connector.Error as err:\n",
    "        print(\"Database error:\", err)\n",
    "\n",
    "if __name__ == \"__main__\":\n",
    "    venues = fetch_venues()\n",
    "    if venues:\n",
    "        insert_into_db(venues)\n",
    "    else:\n",
    "        print(\"No venue data to insert.\")\n"
   ]
  }
 ],
 "metadata": {
  "kernelspec": {
   "display_name": "Python 3",
   "language": "python",
   "name": "python3"
  },
  "language_info": {
   "codemirror_mode": {
    "name": "ipython",
    "version": 3
   },
   "file_extension": ".py",
   "mimetype": "text/x-python",
   "name": "python",
   "nbconvert_exporter": "python",
   "pygments_lexer": "ipython3",
   "version": "3.13.1"
  }
 },
 "nbformat": 4,
 "nbformat_minor": 2
}

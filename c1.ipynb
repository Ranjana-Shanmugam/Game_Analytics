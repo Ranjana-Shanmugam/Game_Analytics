{
 "cells": [
  {
   "cell_type": "code",
   "execution_count": null,
   "metadata": {},
   "outputs": [
    {
     "name": "stdout",
     "output_type": "stream",
     "text": [
      "632 records inserted/updated.\n"
     ]
    }
   ],
   "source": [
    "import requests\n",
    "import mysql.connector\n",
    "\n",
    "# API Configuration\n",
    "\n",
    "API_URL = \"https://api.sportradar.com/tennis/trial/v3/en/complexes.json\"\n",
    "\n",
    "API_KEY = \"UdfDtENKaaWlf1UzBnzVSldMxYu4umMwr3l1aOLd\"\n",
    "\n",
    "# MySQL Database Configuration (Database: compl)\n",
    "DB_CONFIG = {\n",
    "    \"host\": \"localhost\",    \n",
    "    \"user\": \"root\",         \n",
    "    \"password\": \"\",         \n",
    "    \"database\": \"compl\"    \n",
    "}\n",
    "\n",
    "def fetch_complexes():\n",
    "    \"\"\"Fetch complex data from Sportradar API.\"\"\"\n",
    "    response = requests.get(API_URL, params={\"api_key\": API_KEY})\n",
    "    \n",
    "    if response.status_code == 200:\n",
    "        return response.json().get(\"complexes\", [])  # Extract 'complexes' list\n",
    "    else:\n",
    "        print(\"Error fetching data:\", response.status_code, response.text)\n",
    "        return []\n",
    "\n",
    "def insert_into_db(complexes):\n",
    "    \"\"\"Insert complex data into MySQL.\"\"\"\n",
    "    try:\n",
    "        conn = mysql.connector.connect(**DB_CONFIG)\n",
    "        cursor = conn.cursor()\n",
    "        \n",
    "        query = \"\"\"\n",
    "        INSERT INTO complexes (complex_id, complex_name) \n",
    "        VALUES (%s, %s) \n",
    "        ON DUPLICATE KEY UPDATE complex_name = VALUES(complex_name)\n",
    "        \"\"\"\n",
    "        \n",
    "        data = [(c[\"id\"], c[\"name\"]) for c in complexes]\n",
    "        \n",
    "        cursor.executemany(query, data)\n",
    "        conn.commit()\n",
    "        \n",
    "        print(f\"{cursor.rowcount} records inserted/updated.\")\n",
    "        \n",
    "        cursor.close()\n",
    "        conn.close()\n",
    "    \n",
    "    except mysql.connector.Error as err:\n",
    "        print(\"Database error:\", err)\n",
    "\n",
    "if __name__ == \"__main__\":\n",
    "    complexes = fetch_complexes()\n",
    "    if complexes:\n",
    "        insert_into_db(complexes)\n",
    "    else:\n",
    "        print(\"No data to insert.\")\n"
   ]
  }
 ],
 "metadata": {
  "kernelspec": {
   "display_name": "Python 3",
   "language": "python",
   "name": "python3"
  },
  "language_info": {
   "codemirror_mode": {
    "name": "ipython",
    "version": 3
   },
   "file_extension": ".py",
   "mimetype": "text/x-python",
   "name": "python",
   "nbconvert_exporter": "python",
   "pygments_lexer": "ipython3",
   "version": "3.13.1"
  }
 },
 "nbformat": 4,
 "nbformat_minor": 2
}

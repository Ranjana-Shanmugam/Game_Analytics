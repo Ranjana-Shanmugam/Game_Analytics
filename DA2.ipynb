{
 "cells": [
  {
   "cell_type": "code",
   "execution_count": 1,
   "metadata": {},
   "outputs": [],
   "source": [
    "import mysql.connector"
   ]
  },
  {
   "cell_type": "code",
   "execution_count": 2,
   "metadata": {},
   "outputs": [],
   "source": [
    "connection = mysql.connector.connect(\n",
    "    host=\"localhost\",       \n",
    "    user=\"root\",            \n",
    "    password=\"\",            \n",
    "    database=\"compl\"    \n",
    ")\n",
    "mycursor = connection.cursor()"
   ]
  },
  {
   "cell_type": "code",
   "execution_count": 3,
   "metadata": {},
   "outputs": [
    {
     "name": "stdout",
     "output_type": "stream",
     "text": [
      "Defaulting to user installation because normal site-packages is not writeable\n",
      "Requirement already satisfied: tabulate in c:\\users\\ranjana devi\\appdata\\roaming\\python\\python313\\site-packages (0.9.0)\n",
      "Note: you may need to restart the kernel to use updated packages.\n"
     ]
    },
    {
     "name": "stderr",
     "output_type": "stream",
     "text": [
      "\n",
      "[notice] A new release of pip is available: 24.3.1 -> 25.0.1\n",
      "[notice] To update, run: python.exe -m pip install --upgrade pip\n"
     ]
    }
   ],
   "source": [
    "pip install tabulate"
   ]
  },
  {
   "cell_type": "code",
   "execution_count": 7,
   "metadata": {},
   "outputs": [
    {
     "name": "stdout",
     "output_type": "stream",
     "text": [
      "+------------------+----------------------+\n",
      "| complex_id       | complex_name         |\n",
      "|------------------+----------------------|\n",
      "| sr:complex:81815 | Complejo de Raquetas |\n",
      "+------------------+----------------------+\n"
     ]
    }
   ],
   "source": [
    "mycursor.execute(\"SELECT * FROM complexes WHERE complex_id ='sr:complex:81815'\")\n",
    "out=mycursor.fetchall()\n",
    "from tabulate import tabulate\n",
    "print(tabulate(out,headers=[i[0] for i in mycursor.description],tablefmt='psql'))"
   ]
  },
  {
   "cell_type": "code",
   "execution_count": null,
   "metadata": {},
   "outputs": [],
   "source": [
    "#List all venues along with their associated complex name\n",
    "mycursor.execute(\"\"\" SELECT \n",
    "v.venue_id,v.venue_name,v.city_name,v.country_name,c.complex_name\n",
    "FROM\n",
    "compl.venues v\n",
    "inner join \n",
    "compl.complexes c  ON v.complex_id=c.complex_id\n",
    " GROUP BY\n",
    "c.complex_name;                              \n",
    "                 \"\"\")\n",
    "out=mycursor.fetchall()\n",
    "from tabulate import tabulate\n",
    "print(tabulate(out,headers=[i[0] for i in mycursor.description],tablefmt='psql'))\n"
   ]
  },
  {
   "cell_type": "code",
   "execution_count": null,
   "metadata": {},
   "outputs": [],
   "source": [
    "#Count the number of venues in each complex\n",
    "mycursor.execute(\"\"\" SELECT c.complex_id, c.complex_name, COUNT(v.venue_id) AS venue_count\n",
    "FROM compl.complexes AS c\n",
    "LEFT JOIN compl.venues AS v ON c.complex_id = v.complex_id\n",
    "GROUP BY c.complex_id, c.complex_name;\n",
    "\"\"\")\n",
    "\n",
    "out=mycursor.fetchall()\n",
    "from tabulate import tabulate\n",
    "print(tabulate(out,headers=[i[0] for i in mycursor.description],tablefmt='psql'))"
   ]
  },
  {
   "cell_type": "code",
   "execution_count": null,
   "metadata": {},
   "outputs": [],
   "source": [
    "#Get details of venues in a specific country (e.g., Chile)\n",
    "mycursor.execute(\"\"\" SELECT v.venue_id,v.venue_name,v.city_name,v.timezone,v.country_name\n",
    "                 From compl.venues v\n",
    "                 where v.country_name=\"china\"\n",
    "\"\"\")\n",
    "out=mycursor.fetchall()\n",
    "from tabulate import tabulate\n",
    "print(tabulate(out,headers=[i[0] for i in mycursor.description],tablefmt='psql'))"
   ]
  },
  {
   "cell_type": "code",
   "execution_count": null,
   "metadata": {},
   "outputs": [],
   "source": [
    "#Identify all venues and their timezones\n",
    "mycursor.execute(\"\"\"SELECT v.venue_id,v.venue_name,v.timezone\n",
    "                 FROM compl.venues AS v\n",
    "                 \"\"\")\n",
    "out=mycursor.fetchall()\n",
    "from tabulate import tabulate\n",
    "print(tabulate(out,headers=[i[0] for i in mycursor.description],tablefmt='psql'))"
   ]
  },
  {
   "cell_type": "code",
   "execution_count": null,
   "metadata": {},
   "outputs": [],
   "source": [
    "#Find complexes that have more than one venue\n",
    "mycursor.execute(\"\"\" SELECT c.complex_id,c.complex_name,count(v.venue_id) AS venue_count\n",
    "                 FROM\n",
    "                 compl.complexes c\n",
    "                 join\n",
    "                 compl.venues v \n",
    "                 ON\n",
    "                 c.complex_id=v.complex_id\n",
    "                 GROUP BY c.complex_id, c.complex_name\n",
    "                 HAVING COUNT(v.venue_id) > 1;\n",
    "                 \"\"\")\n",
    "out=mycursor.fetchall()\n",
    "from tabulate import tabulate\n",
    "print(tabulate(out,headers=[i[0] for i in mycursor.description],tablefmt='psql'))"
   ]
  },
  {
   "cell_type": "code",
   "execution_count": null,
   "metadata": {},
   "outputs": [],
   "source": [
    "#List venues grouped by country\n",
    "mycursor.execute(\"\"\"SELECT v.venue_id,v.venue_name,v.country_name,COUNT(v.venue_id)AS venue_count\n",
    "                 FROM compl.venues v\n",
    "                 GROUP BY v.country_name\n",
    "                 \"\"\")\n",
    "out=mycursor.fetchall()\n",
    "from tabulate import tabulate\n",
    "print(tabulate(out,headers=[i[0] for i in mycursor.description],tablefmt='psql'))"
   ]
  },
  {
   "cell_type": "code",
   "execution_count": null,
   "metadata": {},
   "outputs": [],
   "source": [
    "#Find all venues for a specific complex (e.g., Nacional)\n",
    "mycursor.execute(\"\"\" SELECT v.venue_id,v.venue_name,v.country_name,c.complex_name\n",
    "                 FROM compl.venues v\n",
    "                 join\n",
    "                 compl.complexes c\n",
    "                 ON\n",
    "                 v.complex_id=c.complex_id\n",
    "                 WHERE complex_name=\"Ariake Colosseum\"\n",
    "                 \"\"\")\n",
    "out=mycursor.fetchall()\n",
    "from tabulate import tabulate\n",
    "print(tabulate(out,headers=[i[0] for i in mycursor.description],tablefmt='psql'))"
   ]
  },
  {
   "cell_type": "code",
   "execution_count": null,
   "metadata": {},
   "outputs": [],
   "source": []
  }
 ],
 "metadata": {
  "kernelspec": {
   "display_name": "Python 3",
   "language": "python",
   "name": "python3"
  },
  "language_info": {
   "codemirror_mode": {
    "name": "ipython",
    "version": 3
   },
   "file_extension": ".py",
   "mimetype": "text/x-python",
   "name": "python",
   "nbconvert_exporter": "python",
   "pygments_lexer": "ipython3",
   "version": "3.13.1"
  }
 },
 "nbformat": 4,
 "nbformat_minor": 2
}
